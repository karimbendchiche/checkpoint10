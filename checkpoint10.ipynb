{
 "cells": [
  {
   "cell_type": "markdown",
   "id": "1b568469",
   "metadata": {},
   "source": [
    "# Q1"
   ]
  },
  {
   "cell_type": "code",
   "execution_count": 1,
   "id": "c9349188",
   "metadata": {},
   "outputs": [
    {
     "data": {
      "text/plain": [
       "'k a été trouvé'"
      ]
     },
     "execution_count": 1,
     "metadata": {},
     "output_type": "execute_result"
    }
   ],
   "source": [
    "def binary_search(A, l, h, k):\n",
    "    if h >= 1:\n",
    "        mid = int(l+(h-l)/2)\n",
    "        if A[mid] == k:\n",
    "            return 'k a été trouvé'\n",
    "        elif A[mid] > k:\n",
    "            return binary_search(A, l, mid+1, k)\n",
    "        else:\n",
    "            return binary_search(A, mid+1, h, k)\n",
    "    else:\n",
    "        return 'k a pas été trouvé'\n",
    "    \n",
    "A = [3, 6, 35, 89, 101, 237, 888, 1000, 7906, 10500]\n",
    "k = 35; l = 0; h = len(A)-1;\n",
    "binary_search(A, l, h, k)"
   ]
  },
  {
   "cell_type": "markdown",
   "id": "fc2433e3",
   "metadata": {},
   "source": [
    "# Q2"
   ]
  },
  {
   "cell_type": "code",
   "execution_count": 2,
   "id": "03af770c",
   "metadata": {},
   "outputs": [
    {
     "data": {
      "text/plain": [
       "81"
      ]
     },
     "execution_count": 2,
     "metadata": {},
     "output_type": "execute_result"
    }
   ],
   "source": [
    "def puissance(a, b):\n",
    "    if a == 0:\n",
    "        if b != 0:\n",
    "            return 0\n",
    "        else:\n",
    "            print('non défini')\n",
    "    else:\n",
    "        if b == 0:\n",
    "            return 1\n",
    "        else:\n",
    "            return a*puissance(a, b-1)\n",
    "puissance(3, 4)\n"
   ]
  },
  {
   "cell_type": "markdown",
   "id": "e3d362a6",
   "metadata": {},
   "source": [
    "# Q3"
   ]
  },
  {
   "cell_type": "code",
   "execution_count": 9,
   "id": "4da0a7a9",
   "metadata": {},
   "outputs": [
    {
     "data": {
      "text/plain": [
       "[4, 6, 54, 93, 543, 775, 992, 4657, 9820, 24556]"
      ]
     },
     "execution_count": 9,
     "metadata": {},
     "output_type": "execute_result"
    }
   ],
   "source": [
    "def bubbleSort(liste):\n",
    "    for n in range(len(liste)-1,0,-1):\n",
    "        for i in range(n):\n",
    "            if liste[i] > liste[i+1]:\n",
    "                prov = liste[i]\n",
    "                liste[i] = liste[i+1]\n",
    "                liste[i+1] = prov\n",
    "    return liste\n",
    "liste = [543, 54, 6, 775, 93, 24556, 9820, 992, 4, 4657]\n",
    "bubbleSort(liste)"
   ]
  },
  {
   "cell_type": "markdown",
   "id": "64f6f2ae",
   "metadata": {},
   "source": [
    "# Q4"
   ]
  },
  {
   "cell_type": "code",
   "execution_count": 10,
   "id": "fa4ec827",
   "metadata": {},
   "outputs": [
    {
     "name": "stdout",
     "output_type": "stream",
     "text": [
      "[2, 5, 325, 432, 999, 1101, 3287, 3452, 169191, 356777]\n"
     ]
    }
   ],
   "source": [
    "def mergeSort(liste):\n",
    "    if len(liste) > 1:\n",
    "        mid = len(liste) // 2\n",
    "        gauche = liste[:mid]\n",
    "        droite = liste[mid:]\n",
    "        mergeSort(gauche)\n",
    "        mergeSort(droite)\n",
    "        i = 0\n",
    "        j = 0\n",
    "        k = 0\n",
    "        \n",
    "        while i < len(gauche) and j < len(droite):\n",
    "            if gauche[i] < droite[j]:\n",
    "                liste[k] = gauche[i]\n",
    "                i += 1\n",
    "            else:\n",
    "                liste[k] = droite[j]\n",
    "                j += 1\n",
    "            k += 1\n",
    "        while i < len(gauche):\n",
    "            liste[k] = gauche[i]\n",
    "            i += 1\n",
    "            k += 1\n",
    "        while j < len(droite):\n",
    "            liste[k] = droite[j]\n",
    "            j += 1\n",
    "            k += 1\n",
    "liste = [3452, 432, 356777, 325, 2, 5, 3287, 999, 1101, 169191]\n",
    "mergeSort(liste)\n",
    "print(liste)"
   ]
  },
  {
   "cell_type": "markdown",
   "id": "f8f78333",
   "metadata": {},
   "source": [
    "# Q5"
   ]
  },
  {
   "cell_type": "code",
   "execution_count": 17,
   "id": "b27bd96f",
   "metadata": {},
   "outputs": [],
   "source": [
    "def partition(liste, debut, fin):\n",
    "    pivot = liste[debut]\n",
    "    bas = debut + 1\n",
    "    haut = fin\n",
    "    while True:\n",
    "        while bas <= haut and liste[haut] >= pivot:\n",
    "            haut = haut - 1\n",
    "        while bas <= haut and liste[bas] <= pivot:\n",
    "            bas = bas + 1\n",
    "        if bas <= haut:\n",
    "            liste[bas], liste[haut] = liste[haut], liste[bas]\n",
    "        else:\n",
    "            break\n",
    "    liste[debut], liste[haut] = liste[haut], liste[debut]\n",
    "    return haut\n"
   ]
  },
  {
   "cell_type": "code",
   "execution_count": 18,
   "id": "641c4a4c",
   "metadata": {},
   "outputs": [],
   "source": [
    "def quicksort(liste, debut, fin):\n",
    "    if debut >= fin:\n",
    "        return\n",
    "    p = partition(liste, debut, fin)\n",
    "    quicksort(liste, debut, p-1)\n",
    "    quicksort(liste, p+1, fin)\n"
   ]
  },
  {
   "cell_type": "code",
   "execution_count": 19,
   "id": "53f8d125",
   "metadata": {},
   "outputs": [
    {
     "name": "stdout",
     "output_type": "stream",
     "text": [
      "[12, 19, 21, 27, 28, 29, 31, 41, 44, 44, 58, 66, 76, 78, 83, 87, 88, 97, 99]\n"
     ]
    }
   ],
   "source": [
    "liste = [29,99,27,41,66,28,44,78,87,19,31,76,58,88,83,97,12,21,44]\n",
    "quicksort(liste, 0, len(liste) - 1)\n",
    "print(liste)"
   ]
  },
  {
   "cell_type": "code",
   "execution_count": null,
   "id": "c83d6aa8",
   "metadata": {},
   "outputs": [],
   "source": []
  }
 ],
 "metadata": {
  "kernelspec": {
   "display_name": "Python 3 (ipykernel)",
   "language": "python",
   "name": "python3"
  },
  "language_info": {
   "codemirror_mode": {
    "name": "ipython",
    "version": 3
   },
   "file_extension": ".py",
   "mimetype": "text/x-python",
   "name": "python",
   "nbconvert_exporter": "python",
   "pygments_lexer": "ipython3",
   "version": "3.9.12"
  }
 },
 "nbformat": 4,
 "nbformat_minor": 5
}
